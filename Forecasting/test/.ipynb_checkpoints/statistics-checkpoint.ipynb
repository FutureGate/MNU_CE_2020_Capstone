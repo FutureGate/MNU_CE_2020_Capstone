{
 "cells": [
  {
   "cell_type": "markdown",
   "metadata": {},
   "source": [
    "# 라이브러리 import"
   ]
  },
  {
   "cell_type": "code",
   "execution_count": 54,
   "metadata": {},
   "outputs": [],
   "source": [
    "import numpy as np\n",
    "import pandas as pd\n",
    "import matplotlib.pyplot as plt"
   ]
  },
  {
   "cell_type": "markdown",
   "metadata": {},
   "source": [
    "# 데이터 로드"
   ]
  },
  {
   "cell_type": "code",
   "execution_count": 55,
   "metadata": {},
   "outputs": [],
   "source": [
    "data_path = './data/'"
   ]
  },
  {
   "cell_type": "code",
   "execution_count": 56,
   "metadata": {
    "_cell_guid": "36e71b25-7963-4850-9652-0f58cd0fe140",
    "_uuid": "fde7fa8a35c5bd538c626a9ab267eacce7251a8e"
   },
   "outputs": [],
   "source": [
    "sale_2016 = pd.read_csv(data_path + 'train_2016.csv')\n",
    "sale_2016['date'] = pd.to_datetime(sale_2016['date'], format='%Y-%m-%d')"
   ]
  },
  {
   "cell_type": "code",
   "execution_count": 57,
   "metadata": {},
   "outputs": [
    {
     "data": {
      "text/html": [
       "<div>\n",
       "<style scoped>\n",
       "    .dataframe tbody tr th:only-of-type {\n",
       "        vertical-align: middle;\n",
       "    }\n",
       "\n",
       "    .dataframe tbody tr th {\n",
       "        vertical-align: top;\n",
       "    }\n",
       "\n",
       "    .dataframe thead th {\n",
       "        text-align: right;\n",
       "    }\n",
       "</style>\n",
       "<table border=\"1\" class=\"dataframe\">\n",
       "  <thead>\n",
       "    <tr style=\"text-align: right;\">\n",
       "      <th></th>\n",
       "      <th>date</th>\n",
       "      <th>store_nbr</th>\n",
       "      <th>item_nbr</th>\n",
       "      <th>unit_sales</th>\n",
       "    </tr>\n",
       "  </thead>\n",
       "  <tbody>\n",
       "    <tr>\n",
       "      <th>0</th>\n",
       "      <td>2016-01-01</td>\n",
       "      <td>25</td>\n",
       "      <td>105574</td>\n",
       "      <td>12.0</td>\n",
       "    </tr>\n",
       "    <tr>\n",
       "      <th>1</th>\n",
       "      <td>2016-01-01</td>\n",
       "      <td>25</td>\n",
       "      <td>105575</td>\n",
       "      <td>9.0</td>\n",
       "    </tr>\n",
       "    <tr>\n",
       "      <th>2</th>\n",
       "      <td>2016-01-01</td>\n",
       "      <td>25</td>\n",
       "      <td>105857</td>\n",
       "      <td>3.0</td>\n",
       "    </tr>\n",
       "    <tr>\n",
       "      <th>3</th>\n",
       "      <td>2016-01-01</td>\n",
       "      <td>25</td>\n",
       "      <td>108634</td>\n",
       "      <td>3.0</td>\n",
       "    </tr>\n",
       "    <tr>\n",
       "      <th>4</th>\n",
       "      <td>2016-01-01</td>\n",
       "      <td>25</td>\n",
       "      <td>108701</td>\n",
       "      <td>2.0</td>\n",
       "    </tr>\n",
       "    <tr>\n",
       "      <th>...</th>\n",
       "      <td>...</td>\n",
       "      <td>...</td>\n",
       "      <td>...</td>\n",
       "      <td>...</td>\n",
       "    </tr>\n",
       "    <tr>\n",
       "      <th>35229866</th>\n",
       "      <td>2016-12-31</td>\n",
       "      <td>54</td>\n",
       "      <td>2048381</td>\n",
       "      <td>6.0</td>\n",
       "    </tr>\n",
       "    <tr>\n",
       "      <th>35229867</th>\n",
       "      <td>2016-12-31</td>\n",
       "      <td>54</td>\n",
       "      <td>2048421</td>\n",
       "      <td>4.0</td>\n",
       "    </tr>\n",
       "    <tr>\n",
       "      <th>35229868</th>\n",
       "      <td>2016-12-31</td>\n",
       "      <td>54</td>\n",
       "      <td>2048471</td>\n",
       "      <td>10.0</td>\n",
       "    </tr>\n",
       "    <tr>\n",
       "      <th>35229869</th>\n",
       "      <td>2016-12-31</td>\n",
       "      <td>54</td>\n",
       "      <td>2048515</td>\n",
       "      <td>3.0</td>\n",
       "    </tr>\n",
       "    <tr>\n",
       "      <th>35229870</th>\n",
       "      <td>2016-12-31</td>\n",
       "      <td>54</td>\n",
       "      <td>2048674</td>\n",
       "      <td>1.0</td>\n",
       "    </tr>\n",
       "  </tbody>\n",
       "</table>\n",
       "<p>35229871 rows × 4 columns</p>\n",
       "</div>"
      ],
      "text/plain": [
       "               date  store_nbr  item_nbr  unit_sales\n",
       "0        2016-01-01         25    105574        12.0\n",
       "1        2016-01-01         25    105575         9.0\n",
       "2        2016-01-01         25    105857         3.0\n",
       "3        2016-01-01         25    108634         3.0\n",
       "4        2016-01-01         25    108701         2.0\n",
       "...             ...        ...       ...         ...\n",
       "35229866 2016-12-31         54   2048381         6.0\n",
       "35229867 2016-12-31         54   2048421         4.0\n",
       "35229868 2016-12-31         54   2048471        10.0\n",
       "35229869 2016-12-31         54   2048515         3.0\n",
       "35229870 2016-12-31         54   2048674         1.0\n",
       "\n",
       "[35229871 rows x 4 columns]"
      ]
     },
     "execution_count": 57,
     "metadata": {},
     "output_type": "execute_result"
    }
   ],
   "source": [
    "sale_2016"
   ]
  },
  {
   "cell_type": "code",
   "execution_count": null,
   "metadata": {},
   "outputs": [],
   "source": [
    "sale_2016= sale_2016[sale_2016[\"store_nbr\"] == 25]\n",
    "sale_2016= sale_2016[sale_2016[\"item_nbr\"] == 105574]"
   ]
  },
  {
   "cell_type": "markdown",
   "metadata": {},
   "source": [
    "# 데이터 전처리"
   ]
  },
  {
   "cell_type": "code",
   "execution_count": 58,
   "metadata": {},
   "outputs": [],
   "source": [
    "df = sale_2016.copy()\n",
    "df['date'] = pd.to_datetime(df['date'], format='%Y-%m-%d')"
   ]
  },
  {
   "cell_type": "code",
   "execution_count": 59,
   "metadata": {},
   "outputs": [
    {
     "data": {
      "text/html": [
       "<div>\n",
       "<style scoped>\n",
       "    .dataframe tbody tr th:only-of-type {\n",
       "        vertical-align: middle;\n",
       "    }\n",
       "\n",
       "    .dataframe tbody tr th {\n",
       "        vertical-align: top;\n",
       "    }\n",
       "\n",
       "    .dataframe thead th {\n",
       "        text-align: right;\n",
       "    }\n",
       "</style>\n",
       "<table border=\"1\" class=\"dataframe\">\n",
       "  <thead>\n",
       "    <tr style=\"text-align: right;\">\n",
       "      <th></th>\n",
       "      <th>store_nbr</th>\n",
       "      <th>item_nbr</th>\n",
       "      <th>unit_sales</th>\n",
       "    </tr>\n",
       "    <tr>\n",
       "      <th>date</th>\n",
       "      <th></th>\n",
       "      <th></th>\n",
       "      <th></th>\n",
       "    </tr>\n",
       "  </thead>\n",
       "  <tbody>\n",
       "    <tr>\n",
       "      <th>2016-01-01</th>\n",
       "      <td>25</td>\n",
       "      <td>105574</td>\n",
       "      <td>12.0</td>\n",
       "    </tr>\n",
       "    <tr>\n",
       "      <th>2016-01-01</th>\n",
       "      <td>25</td>\n",
       "      <td>105575</td>\n",
       "      <td>9.0</td>\n",
       "    </tr>\n",
       "    <tr>\n",
       "      <th>2016-01-01</th>\n",
       "      <td>25</td>\n",
       "      <td>105857</td>\n",
       "      <td>3.0</td>\n",
       "    </tr>\n",
       "    <tr>\n",
       "      <th>2016-01-01</th>\n",
       "      <td>25</td>\n",
       "      <td>108634</td>\n",
       "      <td>3.0</td>\n",
       "    </tr>\n",
       "    <tr>\n",
       "      <th>2016-01-01</th>\n",
       "      <td>25</td>\n",
       "      <td>108701</td>\n",
       "      <td>2.0</td>\n",
       "    </tr>\n",
       "    <tr>\n",
       "      <th>...</th>\n",
       "      <td>...</td>\n",
       "      <td>...</td>\n",
       "      <td>...</td>\n",
       "    </tr>\n",
       "    <tr>\n",
       "      <th>2016-12-31</th>\n",
       "      <td>54</td>\n",
       "      <td>2048381</td>\n",
       "      <td>6.0</td>\n",
       "    </tr>\n",
       "    <tr>\n",
       "      <th>2016-12-31</th>\n",
       "      <td>54</td>\n",
       "      <td>2048421</td>\n",
       "      <td>4.0</td>\n",
       "    </tr>\n",
       "    <tr>\n",
       "      <th>2016-12-31</th>\n",
       "      <td>54</td>\n",
       "      <td>2048471</td>\n",
       "      <td>10.0</td>\n",
       "    </tr>\n",
       "    <tr>\n",
       "      <th>2016-12-31</th>\n",
       "      <td>54</td>\n",
       "      <td>2048515</td>\n",
       "      <td>3.0</td>\n",
       "    </tr>\n",
       "    <tr>\n",
       "      <th>2016-12-31</th>\n",
       "      <td>54</td>\n",
       "      <td>2048674</td>\n",
       "      <td>1.0</td>\n",
       "    </tr>\n",
       "  </tbody>\n",
       "</table>\n",
       "<p>35229871 rows × 3 columns</p>\n",
       "</div>"
      ],
      "text/plain": [
       "            store_nbr  item_nbr  unit_sales\n",
       "date                                       \n",
       "2016-01-01         25    105574        12.0\n",
       "2016-01-01         25    105575         9.0\n",
       "2016-01-01         25    105857         3.0\n",
       "2016-01-01         25    108634         3.0\n",
       "2016-01-01         25    108701         2.0\n",
       "...               ...       ...         ...\n",
       "2016-12-31         54   2048381         6.0\n",
       "2016-12-31         54   2048421         4.0\n",
       "2016-12-31         54   2048471        10.0\n",
       "2016-12-31         54   2048515         3.0\n",
       "2016-12-31         54   2048674         1.0\n",
       "\n",
       "[35229871 rows x 3 columns]"
      ]
     },
     "execution_count": 59,
     "metadata": {},
     "output_type": "execute_result"
    }
   ],
   "source": [
    "df.set_index(df['date'], inplace=True)\n",
    "df = df.drop('date', axis=1)\n",
    "df"
   ]
  },
  {
   "cell_type": "markdown",
   "metadata": {},
   "source": [
    "# 월별 통계"
   ]
  },
  {
   "cell_type": "markdown",
   "metadata": {},
   "source": [
    "## 합산"
   ]
  },
  {
   "cell_type": "code",
   "execution_count": 60,
   "metadata": {},
   "outputs": [],
   "source": [
    "monthly_sum = df.groupby([lambda x: x.year, lambda x: x.month]).sum()"
   ]
  },
  {
   "cell_type": "code",
   "execution_count": 61,
   "metadata": {},
   "outputs": [
    {
     "data": {
      "text/html": [
       "<div>\n",
       "<style scoped>\n",
       "    .dataframe tbody tr th:only-of-type {\n",
       "        vertical-align: middle;\n",
       "    }\n",
       "\n",
       "    .dataframe tbody tr th {\n",
       "        vertical-align: top;\n",
       "    }\n",
       "\n",
       "    .dataframe thead th {\n",
       "        text-align: right;\n",
       "    }\n",
       "</style>\n",
       "<table border=\"1\" class=\"dataframe\">\n",
       "  <thead>\n",
       "    <tr style=\"text-align: right;\">\n",
       "      <th></th>\n",
       "      <th></th>\n",
       "      <th>store_nbr</th>\n",
       "      <th>item_nbr</th>\n",
       "      <th>unit_sales</th>\n",
       "    </tr>\n",
       "  </thead>\n",
       "  <tbody>\n",
       "    <tr>\n",
       "      <th rowspan=\"12\" valign=\"top\">2016</th>\n",
       "      <th>1</th>\n",
       "      <td>77587026</td>\n",
       "      <td>2992473832646</td>\n",
       "      <td>2.397779e+07</td>\n",
       "    </tr>\n",
       "    <tr>\n",
       "      <th>2</th>\n",
       "      <td>75165927</td>\n",
       "      <td>2904208377822</td>\n",
       "      <td>2.194741e+07</td>\n",
       "    </tr>\n",
       "    <tr>\n",
       "      <th>3</th>\n",
       "      <td>81030508</td>\n",
       "      <td>3153959305260</td>\n",
       "      <td>2.313178e+07</td>\n",
       "    </tr>\n",
       "    <tr>\n",
       "      <th>4</th>\n",
       "      <td>79230397</td>\n",
       "      <td>3116438891696</td>\n",
       "      <td>2.596008e+07</td>\n",
       "    </tr>\n",
       "    <tr>\n",
       "      <th>5</th>\n",
       "      <td>82260325</td>\n",
       "      <td>3234093400894</td>\n",
       "      <td>2.476341e+07</td>\n",
       "    </tr>\n",
       "    <tr>\n",
       "      <th>6</th>\n",
       "      <td>77845637</td>\n",
       "      <td>3077679503681</td>\n",
       "      <td>2.220922e+07</td>\n",
       "    </tr>\n",
       "    <tr>\n",
       "      <th>7</th>\n",
       "      <td>83343473</td>\n",
       "      <td>3308304809914</td>\n",
       "      <td>2.346267e+07</td>\n",
       "    </tr>\n",
       "    <tr>\n",
       "      <th>8</th>\n",
       "      <td>82862235</td>\n",
       "      <td>3296695329711</td>\n",
       "      <td>2.245241e+07</td>\n",
       "    </tr>\n",
       "    <tr>\n",
       "      <th>9</th>\n",
       "      <td>79707774</td>\n",
       "      <td>3193416649750</td>\n",
       "      <td>2.241745e+07</td>\n",
       "    </tr>\n",
       "    <tr>\n",
       "      <th>10</th>\n",
       "      <td>83841346</td>\n",
       "      <td>3387958670241</td>\n",
       "      <td>2.403039e+07</td>\n",
       "    </tr>\n",
       "    <tr>\n",
       "      <th>11</th>\n",
       "      <td>82324107</td>\n",
       "      <td>3344217713615</td>\n",
       "      <td>2.464258e+07</td>\n",
       "    </tr>\n",
       "    <tr>\n",
       "      <th>12</th>\n",
       "      <td>88019880</td>\n",
       "      <td>3616521087171</td>\n",
       "      <td>2.963820e+07</td>\n",
       "    </tr>\n",
       "  </tbody>\n",
       "</table>\n",
       "</div>"
      ],
      "text/plain": [
       "         store_nbr       item_nbr    unit_sales\n",
       "2016 1    77587026  2992473832646  2.397779e+07\n",
       "     2    75165927  2904208377822  2.194741e+07\n",
       "     3    81030508  3153959305260  2.313178e+07\n",
       "     4    79230397  3116438891696  2.596008e+07\n",
       "     5    82260325  3234093400894  2.476341e+07\n",
       "     6    77845637  3077679503681  2.220922e+07\n",
       "     7    83343473  3308304809914  2.346267e+07\n",
       "     8    82862235  3296695329711  2.245241e+07\n",
       "     9    79707774  3193416649750  2.241745e+07\n",
       "     10   83841346  3387958670241  2.403039e+07\n",
       "     11   82324107  3344217713615  2.464258e+07\n",
       "     12   88019880  3616521087171  2.963820e+07"
      ]
     },
     "execution_count": 61,
     "metadata": {},
     "output_type": "execute_result"
    }
   ],
   "source": [
    "monthly_sum"
   ]
  },
  {
   "cell_type": "code",
   "execution_count": 62,
   "metadata": {
    "scrolled": false
   },
   "outputs": [
    {
     "data": {
      "image/png": "[encoded data removed]",
      "text/plain": [
       "<Figure size 1080x504 with 1 Axes>"
      ]
     },
     "metadata": {
      "needs_background": "light"
     },
     "output_type": "display_data"
    }
   ],
   "source": [
    "plt.figure(figsize=(15, 7))\n",
    "\n",
    "plt.ticklabel_format(style='plain', axis='y', scilimits=(0,0))\n",
    "monthly_sum['unit_sales'].plot(kind='bar')\n",
    "plt.title('Sum Of Monthly Sales In 2016')\n",
    "\n",
    "plt.xlabel('Month')\n",
    "plt.ylabel('Sales')\n",
    "plt.show()"
   ]
  },
  {
   "cell_type": "markdown",
   "metadata": {},
   "source": [
    "## 평균 & 표준편차"
   ]
  },
  {
   "cell_type": "code",
   "execution_count": 68,
   "metadata": {},
   "outputs": [],
   "source": [
    "monthly_mean = df.groupby([lambda x: x.year, lambda x: x.month]).mean()\n",
    "monthly_stdev = df.groupby([lambda x: x.year, lambda x: x.month])"
   ]
  },
  {
   "cell_type": "code",
   "execution_count": 69,
   "metadata": {},
   "outputs": [
    {
     "data": {
      "text/html": [
       "<div>\n",
       "<style scoped>\n",
       "    .dataframe tbody tr th:only-of-type {\n",
       "        vertical-align: middle;\n",
       "    }\n",
       "\n",
       "    .dataframe tbody tr th {\n",
       "        vertical-align: top;\n",
       "    }\n",
       "\n",
       "    .dataframe thead th {\n",
       "        text-align: right;\n",
       "    }\n",
       "</style>\n",
       "<table border=\"1\" class=\"dataframe\">\n",
       "  <thead>\n",
       "    <tr style=\"text-align: right;\">\n",
       "      <th></th>\n",
       "      <th></th>\n",
       "      <th>store_nbr</th>\n",
       "      <th>item_nbr</th>\n",
       "      <th>unit_sales</th>\n",
       "    </tr>\n",
       "  </thead>\n",
       "  <tbody>\n",
       "    <tr>\n",
       "      <th rowspan=\"12\" valign=\"top\">2016</th>\n",
       "      <th>1</th>\n",
       "      <td>27.477224</td>\n",
       "      <td>1.059776e+06</td>\n",
       "      <td>8.491665</td>\n",
       "    </tr>\n",
       "    <tr>\n",
       "      <th>2</th>\n",
       "      <td>27.501534</td>\n",
       "      <td>1.062585e+06</td>\n",
       "      <td>8.030066</td>\n",
       "    </tr>\n",
       "    <tr>\n",
       "      <th>3</th>\n",
       "      <td>27.497321</td>\n",
       "      <td>1.070281e+06</td>\n",
       "      <td>7.849660</td>\n",
       "    </tr>\n",
       "    <tr>\n",
       "      <th>4</th>\n",
       "      <td>27.421008</td>\n",
       "      <td>1.078575e+06</td>\n",
       "      <td>8.984576</td>\n",
       "    </tr>\n",
       "    <tr>\n",
       "      <th>5</th>\n",
       "      <td>27.572086</td>\n",
       "      <td>1.084006e+06</td>\n",
       "      <td>8.300219</td>\n",
       "    </tr>\n",
       "    <tr>\n",
       "      <th>6</th>\n",
       "      <td>27.586601</td>\n",
       "      <td>1.090655e+06</td>\n",
       "      <td>7.870407</td>\n",
       "    </tr>\n",
       "    <tr>\n",
       "      <th>7</th>\n",
       "      <td>27.643997</td>\n",
       "      <td>1.097324e+06</td>\n",
       "      <td>7.782277</td>\n",
       "    </tr>\n",
       "    <tr>\n",
       "      <th>8</th>\n",
       "      <td>27.763626</td>\n",
       "      <td>1.104583e+06</td>\n",
       "      <td>7.522853</td>\n",
       "    </tr>\n",
       "    <tr>\n",
       "      <th>9</th>\n",
       "      <td>27.787305</td>\n",
       "      <td>1.113272e+06</td>\n",
       "      <td>7.815053</td>\n",
       "    </tr>\n",
       "    <tr>\n",
       "      <th>10</th>\n",
       "      <td>27.762954</td>\n",
       "      <td>1.121878e+06</td>\n",
       "      <td>7.957346</td>\n",
       "    </tr>\n",
       "    <tr>\n",
       "      <th>11</th>\n",
       "      <td>27.764296</td>\n",
       "      <td>1.127857e+06</td>\n",
       "      <td>8.310856</td>\n",
       "    </tr>\n",
       "    <tr>\n",
       "      <th>12</th>\n",
       "      <td>27.692279</td>\n",
       "      <td>1.137808e+06</td>\n",
       "      <td>9.324591</td>\n",
       "    </tr>\n",
       "  </tbody>\n",
       "</table>\n",
       "</div>"
      ],
      "text/plain": [
       "         store_nbr      item_nbr  unit_sales\n",
       "2016 1   27.477224  1.059776e+06    8.491665\n",
       "     2   27.501534  1.062585e+06    8.030066\n",
       "     3   27.497321  1.070281e+06    7.849660\n",
       "     4   27.421008  1.078575e+06    8.984576\n",
       "     5   27.572086  1.084006e+06    8.300219\n",
       "     6   27.586601  1.090655e+06    7.870407\n",
       "     7   27.643997  1.097324e+06    7.782277\n",
       "     8   27.763626  1.104583e+06    7.522853\n",
       "     9   27.787305  1.113272e+06    7.815053\n",
       "     10  27.762954  1.121878e+06    7.957346\n",
       "     11  27.764296  1.127857e+06    8.310856\n",
       "     12  27.692279  1.137808e+06    9.324591"
      ]
     },
     "execution_count": 69,
     "metadata": {},
     "output_type": "execute_result"
    }
   ],
   "source": [
    "monthly_mean"
   ]
  },
  {
   "cell_type": "code",
   "execution_count": 70,
   "metadata": {
    "scrolled": false
   },
   "outputs": [
    {
     "data": {
      "text/plain": [
       "<pandas.core.groupby.generic.DataFrameGroupBy object at 0x00000244130F0FD0>"
      ]
     },
     "execution_count": 70,
     "metadata": {},
     "output_type": "execute_result"
    }
   ],
   "source": [
    "monthly_stdev"
   ]
  },
  {
   "cell_type": "code",
   "execution_count": null,
   "metadata": {},
   "outputs": [],
   "source": []
  },
  {
   "cell_type": "code",
   "execution_count": 66,
   "metadata": {},
   "outputs": [
    {
     "data": {
      "image/png": "[encoded data removed]",
      "text/plain": [
       "<Figure size 1080x360 with 1 Axes>"
      ]
     },
     "metadata": {
      "needs_background": "light"
     },
     "output_type": "display_data"
    }
   ],
   "source": [
    "p = monthly_mean['unit_sales'].plot(figsize=(15,5), legend=True, kind=\"bar\", yerr=monthly_stdev['unit_sales']);\n",
    "p.set_title(\"Monthly Mean And Standard Deviation Of Sales In 2016\", fontsize=18);\n",
    "p.set_xlabel(\"Month\", fontsize=18);\n",
    "p.set_ylabel(\"Sales\", fontsize=18);\n",
    "p.set_ylim(0,70);"
   ]
  },
  {
   "cell_type": "code",
   "execution_count": 71,
   "metadata": {
    "scrolled": false
   },
   "outputs": [
    {
     "data": {
      "image/png": "[encoded data removed]",
      "text/plain": [
       "<Figure size 1080x504 with 1 Axes>"
      ]
     },
     "metadata": {
      "needs_background": "light"
     },
     "output_type": "display_data"
    }
   ],
   "source": [
    "plt.figure(figsize=(15, 7))\n",
    "\n",
    "plt.ticklabel_format(style='plain', axis='y', scilimits=(0,0))\n",
    "monthly_mean['unit_sales'].plot(kind='bar')\n",
    "plt.title('Monthly Average Sales In 2016')\n",
    "\n",
    "plt.xlabel('Month')\n",
    "plt.ylabel('Sales')\n",
    "plt.show()"
   ]
  },
  {
   "cell_type": "markdown",
   "metadata": {},
   "source": [
    "# 주간 통계"
   ]
  },
  {
   "cell_type": "code",
   "execution_count": 13,
   "metadata": {},
   "outputs": [],
   "source": [
    "df = sale_2016.copy()\n",
    "df['date'] = pd.to_datetime(df['date'], format='%Y-%m-%d')"
   ]
  },
  {
   "cell_type": "code",
   "execution_count": 14,
   "metadata": {},
   "outputs": [],
   "source": [
    "weekly_sum = df.groupby([pd.Grouper(key='date', freq='W-MON')])['unit_sales'].sum().reset_index().sort_values('date')"
   ]
  },
  {
   "cell_type": "code",
   "execution_count": 27,
   "metadata": {},
   "outputs": [
    {
     "data": {
      "image/png": "[encoded data removed]",
      "text/plain": [
       "<Figure size 1080x504 with 1 Axes>"
      ]
     },
     "metadata": {
      "needs_background": "light"
     },
     "output_type": "display_data"
    }
   ],
   "source": [
    "plt.figure(figsize=(15, 7))\n",
    "\n",
    "plt.ticklabel_format(style='plain', axis='y', scilimits=(0,0))\n",
    "weekly_sum['unit_sales'].plot(kind='bar')\n",
    "plt.title('Sum Of Weekly Sales In 2016')\n",
    "\n",
    "plt.xlabel('Week')\n",
    "plt.ylabel('Sales')\n",
    "plt.show()"
   ]
  },
  {
   "cell_type": "code",
   "execution_count": 29,
   "metadata": {},
   "outputs": [],
   "source": [
    "weekly_mean = df.groupby([pd.Grouper(key='date', freq='W-MON')])['unit_sales'].mean().reset_index().sort_values('date')"
   ]
  },
  {
   "cell_type": "code",
   "execution_count": 30,
   "metadata": {
    "scrolled": false
   },
   "outputs": [
    {
     "data": {
      "image/png": "[encoded data removed]",
      "text/plain": [
       "<Figure size 1080x504 with 1 Axes>"
      ]
     },
     "metadata": {
      "needs_background": "light"
     },
     "output_type": "display_data"
    }
   ],
   "source": [
    "plt.figure(figsize=(15, 7))\n",
    "\n",
    "plt.ticklabel_format(style='plain', axis='y', scilimits=(0,0))\n",
    "weekly_mean['unit_sales'].plot(kind='bar')\n",
    "plt.title('Weekly Average Sales In 2016')\n",
    "\n",
    "plt.xlabel('Week')\n",
    "plt.ylabel('Sales')\n",
    "plt.show()"
   ]
  },
  {
   "cell_type": "markdown",
   "metadata": {},
   "source": [
    "# 연간 통계"
   ]
  },
  {
   "cell_type": "code",
   "execution_count": 31,
   "metadata": {},
   "outputs": [],
   "source": [
    "df = sale_2016.copy()\n",
    "df['date'] = pd.to_datetime(df['date'], format='%Y-%m-%d')"
   ]
  },
  {
   "cell_type": "code",
   "execution_count": 32,
   "metadata": {},
   "outputs": [],
   "source": [
    "annual_sum = df.groupby([pd.Grouper(key='date', freq='Y')])['unit_sales'].sum().reset_index().sort_values('date')"
   ]
  },
  {
   "cell_type": "code",
   "execution_count": 33,
   "metadata": {},
   "outputs": [
    {
     "data": {
      "image/png": "[encoded data removed]",
      "text/plain": [
       "<Figure size 1080x504 with 1 Axes>"
      ]
     },
     "metadata": {
      "needs_background": "light"
     },
     "output_type": "display_data"
    }
   ],
   "source": [
    "plt.figure(figsize=(15, 7))\n",
    "\n",
    "plt.ticklabel_format(style='plain', axis='y', scilimits=(0,0))\n",
    "annual_sum['unit_sales'].plot(kind='bar')\n",
    "plt.title('Annual Sales Sum In 2016')\n",
    "\n",
    "plt.xlabel('Week')\n",
    "plt.ylabel('Sales')\n",
    "plt.show()"
   ]
  },
  {
   "cell_type": "markdown",
   "metadata": {},
   "source": [
    "# 저장 (임시 => 추후 데이터베이스 연동)"
   ]
  },
  {
   "cell_type": "markdown",
   "metadata": {},
   "source": [
    "## 월간 평균 저장"
   ]
  },
  {
   "cell_type": "code",
   "execution_count": 162,
   "metadata": {},
   "outputs": [],
   "source": [
    "df = monthly_mean.copy()\n",
    "df = df.drop(['store_nbr', 'item_nbr'], axis=1)\n",
    "df = df.reset_index()\n",
    "df['date'] = pd.to_datetime(dict(year=df.level_0, month=df.level_1, day=1))\n",
    "df['date'] = df['date'].dt.to_period('M')\n",
    "df = df[['date', 'unit_sales']]\n",
    "df.rename(columns={'unit_sales': 'sales'}, inplace=True)"
   ]
  },
  {
   "cell_type": "code",
   "execution_count": 163,
   "metadata": {},
   "outputs": [],
   "source": [
    "df.to_csv('../../Web/WebContent/monthly_mean.csv', index=False)"
   ]
  },
  {
   "cell_type": "markdown",
   "metadata": {},
   "source": [
    "## 월간 합계 저장"
   ]
  },
  {
   "cell_type": "code",
   "execution_count": 164,
   "metadata": {},
   "outputs": [],
   "source": [
    "df = monthly_sum.copy()\n",
    "df = df.drop(['store_nbr', 'item_nbr'], axis=1)\n",
    "df = df.reset_index()\n",
    "df['date'] = pd.to_datetime(dict(year=df.level_0, month=df.level_1, day=1))\n",
    "df['date'] = df['date'].dt.to_period('M')\n",
    "df = df[['date', 'unit_sales']]\n",
    "df.rename(columns={'unit_sales': 'sales'}, inplace=True)"
   ]
  },
  {
   "cell_type": "code",
   "execution_count": 165,
   "metadata": {},
   "outputs": [],
   "source": [
    "df.to_csv('../../Web/WebContent/monthly_sum.csv', index=False)"
   ]
  },
  {
   "cell_type": "code",
   "execution_count": null,
   "metadata": {},
   "outputs": [],
   "source": []
  },
  {
   "cell_type": "code",
   "execution_count": null,
   "metadata": {},
   "outputs": [],
   "source": []
  },
  {
   "cell_type": "code",
   "execution_count": null,
   "metadata": {},
   "outputs": [],
   "source": []
  },
  {
   "cell_type": "code",
   "execution_count": null,
   "metadata": {},
   "outputs": [],
   "source": []
  },
  {
   "cell_type": "code",
   "execution_count": null,
   "metadata": {},
   "outputs": [],
   "source": []
  },
  {
   "cell_type": "code",
   "execution_count": null,
   "metadata": {},
   "outputs": [],
   "source": []
  },
  {
   "cell_type": "code",
   "execution_count": null,
   "metadata": {},
   "outputs": [],
   "source": []
  },
  {
   "cell_type": "code",
   "execution_count": null,
   "metadata": {},
   "outputs": [],
   "source": []
  },
  {
   "cell_type": "code",
   "execution_count": null,
   "metadata": {},
   "outputs": [],
   "source": []
  }
 ],
 "metadata": {
  "kernelspec": {
   "display_name": "Python 3",
   "language": "python",
   "name": "python3"
  },
  "language_info": {
   "codemirror_mode": {
    "name": "ipython",
    "version": 3
   },
   "file_extension": ".py",
   "mimetype": "text/x-python",
   "name": "python",
   "nbconvert_exporter": "python",
   "pygments_lexer": "ipython3",
   "version": "3.6.10"
  }
 },
 "nbformat": 4,
 "nbformat_minor": 4
}
