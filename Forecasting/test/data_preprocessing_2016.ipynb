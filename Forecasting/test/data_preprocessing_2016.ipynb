{
 "cells": [
  {
   "cell_type": "markdown",
   "metadata": {},
   "source": [
    "# 라이브러리 import"
   ]
  },
  {
   "cell_type": "code",
   "execution_count": 1,
   "metadata": {
    "_cell_guid": "e1c1449b-3220-47d5-bc9b-72aa135adacc",
    "_uuid": "48cf7476cddd8ccb0def2e455467515f9c6184e1"
   },
   "outputs": [],
   "source": [
    "import numpy as np\n",
    "import pandas as pd\n",
    "import seaborn as sns\n",
    "import matplotlib.pyplot as plt\n",
    "import gc;gc.collect\n",
    "import datetime\n",
    "\n",
    "from subprocess import check_output"
   ]
  },
  {
   "cell_type": "markdown",
   "metadata": {},
   "source": [
    "# 데이터 로드"
   ]
  },
  {
   "cell_type": "code",
   "execution_count": 2,
   "metadata": {},
   "outputs": [],
   "source": [
    "data_path = './data/'"
   ]
  },
  {
   "cell_type": "code",
   "execution_count": 3,
   "metadata": {
    "_cell_guid": "36e71b25-7963-4850-9652-0f58cd0fe140",
    "_uuid": "fde7fa8a35c5bd538c626a9ab267eacce7251a8e"
   },
   "outputs": [
    {
     "name": "stderr",
     "output_type": "stream",
     "text": [
      "d:\\users\\wjdgu\\anaconda3\\envs\\tf\\lib\\site-packages\\IPython\\core\\interactiveshell.py:3063: DtypeWarning: Columns (5) have mixed types.Specify dtype option on import or set low_memory=False.\n",
      "  interactivity=interactivity, compiler=compiler, result=result)\n"
     ]
    }
   ],
   "source": [
    "train = pd.read_csv(data_path + 'train.csv')"
   ]
  },
  {
   "cell_type": "markdown",
   "metadata": {},
   "source": [
    "# PreProcessing"
   ]
  },
  {
   "cell_type": "code",
   "execution_count": 4,
   "metadata": {
    "_cell_guid": "d59dcb12-8edc-4881-878e-4fa81e45fc6e",
    "_uuid": "495557c0313b7039cf90ababcd810bdf35075dfd"
   },
   "outputs": [
    {
     "data": {
      "text/plain": [
       "15"
      ]
     },
     "execution_count": 4,
     "metadata": {},
     "output_type": "execute_result"
    }
   ],
   "source": [
    "train[\"date\"] =  pd.to_datetime(train[\"date\"])\n",
    "train_2016 = train[train[\"date\"].dt.year == 2016]\n",
    "date_list=np.unique(train_2016[\"date\"])\n",
    "del train; gc.collect()\n"
   ]
  },
  {
   "cell_type": "code",
   "execution_count": 5,
   "metadata": {
    "_cell_guid": "af70291d-6b5d-486e-9563-d4e0d96fc9ca",
    "_uuid": "0ac7b306b775ed45bf8e69772a78a44459097630",
    "scrolled": true
   },
   "outputs": [
    {
     "name": "stdout",
     "output_type": "stream",
     "text": [
      "               date  store_nbr  item_nbr  unit_sales\n",
      "66458908 2016-01-01         25    105574        12.0\n",
      "66458909 2016-01-01         25    105575         9.0\n",
      "66458910 2016-01-01         25    105857         3.0\n",
      "66458911 2016-01-01         25    108634         3.0\n",
      "66458912 2016-01-01         25    108701         2.0\n"
     ]
    }
   ],
   "source": [
    "train_2016.drop(\"id\",axis=1,inplace=True)\n",
    "train_2016.drop(\"onpromotion\",axis=1,inplace=True)\n",
    "train_2016.fillna(0, inplace=True)\n",
    "print(train_2016.head(5))\n",
    "\n",
    "train_2016.to_csv(data_path + 'train_2016.csv', index=False)"
   ]
  }
 ],
 "metadata": {
  "kernelspec": {
   "display_name": "Python 3",
   "language": "python",
   "name": "python3"
  },
  "language_info": {
   "codemirror_mode": {
    "name": "ipython",
    "version": 3
   },
   "file_extension": ".py",
   "mimetype": "text/x-python",
   "name": "python",
   "nbconvert_exporter": "python",
   "pygments_lexer": "ipython3",
   "version": "3.6.10"
  }
 },
 "nbformat": 4,
 "nbformat_minor": 4
}
